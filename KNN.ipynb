{
 "cells": [
  {
   "cell_type": "code",
   "execution_count": 1,
   "metadata": {},
   "outputs": [],
   "source": [
    "import pandas as pd\n",
    "import numpy as np\n",
    "from sklearn.model_selection import train_test_split, GridSearchCV\n",
    "from sklearn.preprocessing import MinMaxScaler\n",
    "from sklearn.neighbors import KNeighborsClassifier\n",
    "from sklearn.metrics import precision_score, recall_score, accuracy_score, f1_score, roc_curve, auc\n",
    "\n",
    "\n",
    "from regression_module import *\n",
    "import warnings\n",
    "\n",
    "warnings.filterwarnings('ignore')\n",
    "\n",
    "%matplotlib inline\n",
    "%load_ext autoreload\n",
    "%autoreload 2"
   ]
  },
  {
   "cell_type": "code",
   "execution_count": 2,
   "metadata": {},
   "outputs": [],
   "source": [
    "# Load Data Set\n",
    "df = pd.read_csv('data/final_df.csv')"
   ]
  },
  {
   "cell_type": "code",
   "execution_count": 3,
   "metadata": {},
   "outputs": [],
   "source": [
    "# Remove first two unnecessary columns from DF\n",
    "df = df.iloc[:,2:]"
   ]
  },
  {
   "cell_type": "code",
   "execution_count": 4,
   "metadata": {},
   "outputs": [],
   "source": [
    "# Assign target variable\n",
    "y = df.churn\n",
    "# Drop target variable from independent features DF\n",
    "X = df.drop('churn', axis = 1)\n",
    "# Save columns as list of strings for reassign after scaling\n",
    "cols = X.columns"
   ]
  },
  {
   "cell_type": "code",
   "execution_count": 5,
   "metadata": {},
   "outputs": [],
   "source": [
    "# Instantiate a scaling object from SKlearn\n",
    "mm = MinMaxScaler()\n",
    "# Fit_Transform the independent features DF to the min-max scaler\n",
    "scaled_X = mm.fit_transform(X)"
   ]
  },
  {
   "cell_type": "code",
   "execution_count": 6,
   "metadata": {},
   "outputs": [
    {
     "data": {
      "text/html": [
       "<div>\n",
       "<style scoped>\n",
       "    .dataframe tbody tr th:only-of-type {\n",
       "        vertical-align: middle;\n",
       "    }\n",
       "\n",
       "    .dataframe tbody tr th {\n",
       "        vertical-align: top;\n",
       "    }\n",
       "\n",
       "    .dataframe thead th {\n",
       "        text-align: right;\n",
       "    }\n",
       "</style>\n",
       "<table border=\"1\" class=\"dataframe\">\n",
       "  <thead>\n",
       "    <tr style=\"text-align: right;\">\n",
       "      <th></th>\n",
       "      <th>tenure</th>\n",
       "      <th>monthlycharges</th>\n",
       "      <th>totalcharges</th>\n",
       "      <th>gender_Female</th>\n",
       "      <th>gender_Male</th>\n",
       "      <th>partner_No</th>\n",
       "      <th>partner_Yes</th>\n",
       "      <th>dependents_No</th>\n",
       "      <th>dependents_Yes</th>\n",
       "      <th>phoneservice_No</th>\n",
       "      <th>...</th>\n",
       "      <th>streamingmovies_Yes</th>\n",
       "      <th>contract_Month-to-month</th>\n",
       "      <th>contract_One year</th>\n",
       "      <th>contract_Two year</th>\n",
       "      <th>paperlessbilling_No</th>\n",
       "      <th>paperlessbilling_Yes</th>\n",
       "      <th>paymentmethod_Bank transfer (automatic)</th>\n",
       "      <th>paymentmethod_Credit card (automatic)</th>\n",
       "      <th>paymentmethod_Electronic check</th>\n",
       "      <th>paymentmethod_Mailed check</th>\n",
       "    </tr>\n",
       "  </thead>\n",
       "  <tbody>\n",
       "    <tr>\n",
       "      <td>0</td>\n",
       "      <td>0.013889</td>\n",
       "      <td>0.115423</td>\n",
       "      <td>0.003437</td>\n",
       "      <td>1.0</td>\n",
       "      <td>0.0</td>\n",
       "      <td>0.0</td>\n",
       "      <td>1.0</td>\n",
       "      <td>1.0</td>\n",
       "      <td>0.0</td>\n",
       "      <td>1.0</td>\n",
       "      <td>...</td>\n",
       "      <td>0.0</td>\n",
       "      <td>1.0</td>\n",
       "      <td>0.0</td>\n",
       "      <td>0.0</td>\n",
       "      <td>0.0</td>\n",
       "      <td>1.0</td>\n",
       "      <td>0.0</td>\n",
       "      <td>0.0</td>\n",
       "      <td>1.0</td>\n",
       "      <td>0.0</td>\n",
       "    </tr>\n",
       "    <tr>\n",
       "      <td>1</td>\n",
       "      <td>0.472222</td>\n",
       "      <td>0.385075</td>\n",
       "      <td>0.217564</td>\n",
       "      <td>0.0</td>\n",
       "      <td>1.0</td>\n",
       "      <td>1.0</td>\n",
       "      <td>0.0</td>\n",
       "      <td>1.0</td>\n",
       "      <td>0.0</td>\n",
       "      <td>0.0</td>\n",
       "      <td>...</td>\n",
       "      <td>0.0</td>\n",
       "      <td>0.0</td>\n",
       "      <td>1.0</td>\n",
       "      <td>0.0</td>\n",
       "      <td>1.0</td>\n",
       "      <td>0.0</td>\n",
       "      <td>0.0</td>\n",
       "      <td>0.0</td>\n",
       "      <td>0.0</td>\n",
       "      <td>1.0</td>\n",
       "    </tr>\n",
       "    <tr>\n",
       "      <td>2</td>\n",
       "      <td>0.027778</td>\n",
       "      <td>0.354229</td>\n",
       "      <td>0.012453</td>\n",
       "      <td>0.0</td>\n",
       "      <td>1.0</td>\n",
       "      <td>1.0</td>\n",
       "      <td>0.0</td>\n",
       "      <td>1.0</td>\n",
       "      <td>0.0</td>\n",
       "      <td>0.0</td>\n",
       "      <td>...</td>\n",
       "      <td>0.0</td>\n",
       "      <td>1.0</td>\n",
       "      <td>0.0</td>\n",
       "      <td>0.0</td>\n",
       "      <td>0.0</td>\n",
       "      <td>1.0</td>\n",
       "      <td>0.0</td>\n",
       "      <td>0.0</td>\n",
       "      <td>0.0</td>\n",
       "      <td>1.0</td>\n",
       "    </tr>\n",
       "    <tr>\n",
       "      <td>3</td>\n",
       "      <td>0.625000</td>\n",
       "      <td>0.239303</td>\n",
       "      <td>0.211951</td>\n",
       "      <td>0.0</td>\n",
       "      <td>1.0</td>\n",
       "      <td>1.0</td>\n",
       "      <td>0.0</td>\n",
       "      <td>1.0</td>\n",
       "      <td>0.0</td>\n",
       "      <td>1.0</td>\n",
       "      <td>...</td>\n",
       "      <td>0.0</td>\n",
       "      <td>0.0</td>\n",
       "      <td>1.0</td>\n",
       "      <td>0.0</td>\n",
       "      <td>1.0</td>\n",
       "      <td>0.0</td>\n",
       "      <td>1.0</td>\n",
       "      <td>0.0</td>\n",
       "      <td>0.0</td>\n",
       "      <td>0.0</td>\n",
       "    </tr>\n",
       "    <tr>\n",
       "      <td>4</td>\n",
       "      <td>0.027778</td>\n",
       "      <td>0.521891</td>\n",
       "      <td>0.017462</td>\n",
       "      <td>1.0</td>\n",
       "      <td>0.0</td>\n",
       "      <td>1.0</td>\n",
       "      <td>0.0</td>\n",
       "      <td>1.0</td>\n",
       "      <td>0.0</td>\n",
       "      <td>0.0</td>\n",
       "      <td>...</td>\n",
       "      <td>0.0</td>\n",
       "      <td>1.0</td>\n",
       "      <td>0.0</td>\n",
       "      <td>0.0</td>\n",
       "      <td>0.0</td>\n",
       "      <td>1.0</td>\n",
       "      <td>0.0</td>\n",
       "      <td>0.0</td>\n",
       "      <td>1.0</td>\n",
       "      <td>0.0</td>\n",
       "    </tr>\n",
       "    <tr>\n",
       "      <td>...</td>\n",
       "      <td>...</td>\n",
       "      <td>...</td>\n",
       "      <td>...</td>\n",
       "      <td>...</td>\n",
       "      <td>...</td>\n",
       "      <td>...</td>\n",
       "      <td>...</td>\n",
       "      <td>...</td>\n",
       "      <td>...</td>\n",
       "      <td>...</td>\n",
       "      <td>...</td>\n",
       "      <td>...</td>\n",
       "      <td>...</td>\n",
       "      <td>...</td>\n",
       "      <td>...</td>\n",
       "      <td>...</td>\n",
       "      <td>...</td>\n",
       "      <td>...</td>\n",
       "      <td>...</td>\n",
       "      <td>...</td>\n",
       "      <td>...</td>\n",
       "    </tr>\n",
       "    <tr>\n",
       "      <td>7038</td>\n",
       "      <td>0.333333</td>\n",
       "      <td>0.662189</td>\n",
       "      <td>0.229194</td>\n",
       "      <td>0.0</td>\n",
       "      <td>1.0</td>\n",
       "      <td>0.0</td>\n",
       "      <td>1.0</td>\n",
       "      <td>0.0</td>\n",
       "      <td>1.0</td>\n",
       "      <td>0.0</td>\n",
       "      <td>...</td>\n",
       "      <td>1.0</td>\n",
       "      <td>0.0</td>\n",
       "      <td>1.0</td>\n",
       "      <td>0.0</td>\n",
       "      <td>0.0</td>\n",
       "      <td>1.0</td>\n",
       "      <td>0.0</td>\n",
       "      <td>0.0</td>\n",
       "      <td>0.0</td>\n",
       "      <td>1.0</td>\n",
       "    </tr>\n",
       "    <tr>\n",
       "      <td>7039</td>\n",
       "      <td>1.000000</td>\n",
       "      <td>0.845274</td>\n",
       "      <td>0.847792</td>\n",
       "      <td>1.0</td>\n",
       "      <td>0.0</td>\n",
       "      <td>0.0</td>\n",
       "      <td>1.0</td>\n",
       "      <td>0.0</td>\n",
       "      <td>1.0</td>\n",
       "      <td>0.0</td>\n",
       "      <td>...</td>\n",
       "      <td>1.0</td>\n",
       "      <td>0.0</td>\n",
       "      <td>1.0</td>\n",
       "      <td>0.0</td>\n",
       "      <td>0.0</td>\n",
       "      <td>1.0</td>\n",
       "      <td>0.0</td>\n",
       "      <td>1.0</td>\n",
       "      <td>0.0</td>\n",
       "      <td>0.0</td>\n",
       "    </tr>\n",
       "    <tr>\n",
       "      <td>7040</td>\n",
       "      <td>0.152778</td>\n",
       "      <td>0.112935</td>\n",
       "      <td>0.039892</td>\n",
       "      <td>1.0</td>\n",
       "      <td>0.0</td>\n",
       "      <td>0.0</td>\n",
       "      <td>1.0</td>\n",
       "      <td>0.0</td>\n",
       "      <td>1.0</td>\n",
       "      <td>1.0</td>\n",
       "      <td>...</td>\n",
       "      <td>0.0</td>\n",
       "      <td>1.0</td>\n",
       "      <td>0.0</td>\n",
       "      <td>0.0</td>\n",
       "      <td>0.0</td>\n",
       "      <td>1.0</td>\n",
       "      <td>0.0</td>\n",
       "      <td>0.0</td>\n",
       "      <td>1.0</td>\n",
       "      <td>0.0</td>\n",
       "    </tr>\n",
       "    <tr>\n",
       "      <td>7041</td>\n",
       "      <td>0.055556</td>\n",
       "      <td>0.558706</td>\n",
       "      <td>0.035303</td>\n",
       "      <td>0.0</td>\n",
       "      <td>1.0</td>\n",
       "      <td>0.0</td>\n",
       "      <td>1.0</td>\n",
       "      <td>1.0</td>\n",
       "      <td>0.0</td>\n",
       "      <td>0.0</td>\n",
       "      <td>...</td>\n",
       "      <td>0.0</td>\n",
       "      <td>1.0</td>\n",
       "      <td>0.0</td>\n",
       "      <td>0.0</td>\n",
       "      <td>0.0</td>\n",
       "      <td>1.0</td>\n",
       "      <td>0.0</td>\n",
       "      <td>0.0</td>\n",
       "      <td>0.0</td>\n",
       "      <td>1.0</td>\n",
       "    </tr>\n",
       "    <tr>\n",
       "      <td>7042</td>\n",
       "      <td>0.916667</td>\n",
       "      <td>0.869652</td>\n",
       "      <td>0.788101</td>\n",
       "      <td>0.0</td>\n",
       "      <td>1.0</td>\n",
       "      <td>1.0</td>\n",
       "      <td>0.0</td>\n",
       "      <td>1.0</td>\n",
       "      <td>0.0</td>\n",
       "      <td>0.0</td>\n",
       "      <td>...</td>\n",
       "      <td>1.0</td>\n",
       "      <td>0.0</td>\n",
       "      <td>0.0</td>\n",
       "      <td>1.0</td>\n",
       "      <td>0.0</td>\n",
       "      <td>1.0</td>\n",
       "      <td>1.0</td>\n",
       "      <td>0.0</td>\n",
       "      <td>0.0</td>\n",
       "      <td>0.0</td>\n",
       "    </tr>\n",
       "  </tbody>\n",
       "</table>\n",
       "<p>7043 rows × 44 columns</p>\n",
       "</div>"
      ],
      "text/plain": [
       "        tenure  monthlycharges  totalcharges  gender_Female  gender_Male  \\\n",
       "0     0.013889        0.115423      0.003437            1.0          0.0   \n",
       "1     0.472222        0.385075      0.217564            0.0          1.0   \n",
       "2     0.027778        0.354229      0.012453            0.0          1.0   \n",
       "3     0.625000        0.239303      0.211951            0.0          1.0   \n",
       "4     0.027778        0.521891      0.017462            1.0          0.0   \n",
       "...        ...             ...           ...            ...          ...   \n",
       "7038  0.333333        0.662189      0.229194            0.0          1.0   \n",
       "7039  1.000000        0.845274      0.847792            1.0          0.0   \n",
       "7040  0.152778        0.112935      0.039892            1.0          0.0   \n",
       "7041  0.055556        0.558706      0.035303            0.0          1.0   \n",
       "7042  0.916667        0.869652      0.788101            0.0          1.0   \n",
       "\n",
       "      partner_No  partner_Yes  dependents_No  dependents_Yes  phoneservice_No  \\\n",
       "0            0.0          1.0            1.0             0.0              1.0   \n",
       "1            1.0          0.0            1.0             0.0              0.0   \n",
       "2            1.0          0.0            1.0             0.0              0.0   \n",
       "3            1.0          0.0            1.0             0.0              1.0   \n",
       "4            1.0          0.0            1.0             0.0              0.0   \n",
       "...          ...          ...            ...             ...              ...   \n",
       "7038         0.0          1.0            0.0             1.0              0.0   \n",
       "7039         0.0          1.0            0.0             1.0              0.0   \n",
       "7040         0.0          1.0            0.0             1.0              1.0   \n",
       "7041         0.0          1.0            1.0             0.0              0.0   \n",
       "7042         1.0          0.0            1.0             0.0              0.0   \n",
       "\n",
       "      ...  streamingmovies_Yes  contract_Month-to-month  contract_One year  \\\n",
       "0     ...                  0.0                      1.0                0.0   \n",
       "1     ...                  0.0                      0.0                1.0   \n",
       "2     ...                  0.0                      1.0                0.0   \n",
       "3     ...                  0.0                      0.0                1.0   \n",
       "4     ...                  0.0                      1.0                0.0   \n",
       "...   ...                  ...                      ...                ...   \n",
       "7038  ...                  1.0                      0.0                1.0   \n",
       "7039  ...                  1.0                      0.0                1.0   \n",
       "7040  ...                  0.0                      1.0                0.0   \n",
       "7041  ...                  0.0                      1.0                0.0   \n",
       "7042  ...                  1.0                      0.0                0.0   \n",
       "\n",
       "      contract_Two year  paperlessbilling_No  paperlessbilling_Yes  \\\n",
       "0                   0.0                  0.0                   1.0   \n",
       "1                   0.0                  1.0                   0.0   \n",
       "2                   0.0                  0.0                   1.0   \n",
       "3                   0.0                  1.0                   0.0   \n",
       "4                   0.0                  0.0                   1.0   \n",
       "...                 ...                  ...                   ...   \n",
       "7038                0.0                  0.0                   1.0   \n",
       "7039                0.0                  0.0                   1.0   \n",
       "7040                0.0                  0.0                   1.0   \n",
       "7041                0.0                  0.0                   1.0   \n",
       "7042                1.0                  0.0                   1.0   \n",
       "\n",
       "      paymentmethod_Bank transfer (automatic)  \\\n",
       "0                                         0.0   \n",
       "1                                         0.0   \n",
       "2                                         0.0   \n",
       "3                                         1.0   \n",
       "4                                         0.0   \n",
       "...                                       ...   \n",
       "7038                                      0.0   \n",
       "7039                                      0.0   \n",
       "7040                                      0.0   \n",
       "7041                                      0.0   \n",
       "7042                                      1.0   \n",
       "\n",
       "      paymentmethod_Credit card (automatic)  paymentmethod_Electronic check  \\\n",
       "0                                       0.0                             1.0   \n",
       "1                                       0.0                             0.0   \n",
       "2                                       0.0                             0.0   \n",
       "3                                       0.0                             0.0   \n",
       "4                                       0.0                             1.0   \n",
       "...                                     ...                             ...   \n",
       "7038                                    0.0                             0.0   \n",
       "7039                                    1.0                             0.0   \n",
       "7040                                    0.0                             1.0   \n",
       "7041                                    0.0                             0.0   \n",
       "7042                                    0.0                             0.0   \n",
       "\n",
       "      paymentmethod_Mailed check  \n",
       "0                            0.0  \n",
       "1                            1.0  \n",
       "2                            1.0  \n",
       "3                            0.0  \n",
       "4                            0.0  \n",
       "...                          ...  \n",
       "7038                         1.0  \n",
       "7039                         0.0  \n",
       "7040                         0.0  \n",
       "7041                         1.0  \n",
       "7042                         0.0  \n",
       "\n",
       "[7043 rows x 44 columns]"
      ]
     },
     "execution_count": 6,
     "metadata": {},
     "output_type": "execute_result"
    }
   ],
   "source": [
    "# Assign scaled dataset to pandas dataframe\n",
    "scaled_df = pd.DataFrame(scaled_X)\n",
    "# Reassign columns names to new dataframe\n",
    "scaled_df.columns = cols\n",
    "scaled_df"
   ]
  },
  {
   "cell_type": "code",
   "execution_count": 8,
   "metadata": {},
   "outputs": [],
   "source": [
    "# Perform a train test split, maintaining test size sample and random state from logistic regression notebook\n",
    "X_train, X_test, y_train, y_test = train_test_split(scaled_df, y, test_size = .25, random_state = 33)"
   ]
  },
  {
   "cell_type": "markdown",
   "metadata": {},
   "source": [
    "# KNN Classifier - Default\n",
    "This KNN classifier is run with default parameters as a baseline model for reference"
   ]
  },
  {
   "cell_type": "code",
   "execution_count": 111,
   "metadata": {},
   "outputs": [],
   "source": [
    "# Instantiate a KNN object from sklearn.neighbors\n",
    "clf = KNeighborsClassifier()\n",
    "# Fit training dataframes to the knn object\n",
    "clf.fit(X_train, y_train)\n",
    "# Predict train values\n",
    "y_hat_train = clf.predict(X_train)\n",
    "# Predict test values\n",
    "y_hat_test = clf.predict(X_test)"
   ]
  },
  {
   "cell_type": "code",
   "execution_count": 112,
   "metadata": {},
   "outputs": [
    {
     "name": "stdout",
     "output_type": "stream",
     "text": [
      "0    4393\n",
      "1     889\n",
      "Name: churn, dtype: int64\n",
      "----------------------------------\n",
      "0    0.831693\n",
      "1    0.168307\n",
      "Name: churn, dtype: float64\n"
     ]
    }
   ],
   "source": [
    "# Find residual differences between train data and predicted train data\n",
    "residuals = np.abs(y_train - y_hat_train)\n",
    "\n",
    "# Print value counts of our predicted values \n",
    "print(pd.Series(residuals).value_counts())\n",
    "print('----------------------------------')\n",
    "# Print normalized value counts of our predicted values\n",
    "print(pd.Series(residuals).value_counts(normalize = True))"
   ]
  },
  {
   "cell_type": "code",
   "execution_count": 113,
   "metadata": {},
   "outputs": [
    {
     "name": "stdout",
     "output_type": "stream",
     "text": [
      "0    1326\n",
      "1     435\n",
      "Name: churn, dtype: int64\n",
      "---------------------------------\n",
      "0    0.752981\n",
      "1    0.247019\n",
      "Name: churn, dtype: float64\n"
     ]
    }
   ],
   "source": [
    "# Repeat previous step with test data\n",
    "residuals = np.abs(y_test - y_hat_test)\n",
    "print(pd.Series(residuals).value_counts())\n",
    "print('---------------------------------')\n",
    "print(pd.Series(residuals).value_counts(normalize = True))"
   ]
  },
  {
   "cell_type": "code",
   "execution_count": 114,
   "metadata": {},
   "outputs": [
    {
     "name": "stdout",
     "output_type": "stream",
     "text": [
      "Training Precision:  0.6929012345679012\n",
      "Testing Precision:  0.5488069414316703\n",
      "\n",
      "\n",
      "Training Recall:  0.646508279337653\n",
      "Testing Recall:  0.5270833333333333\n",
      "\n",
      "\n",
      "Training Accuracy:  0.8316925407042787\n",
      "Testing Accuracy:  0.7529812606473595\n",
      "\n",
      "\n",
      "Training F1-Score:  0.668901303538175\n",
      "Testing F1-Score:  0.5377258235919234\n"
     ]
    }
   ],
   "source": [
    "print_metrics(y_train, y_hat_train, y_test, y_hat_test)"
   ]
  },
  {
   "cell_type": "markdown",
   "metadata": {},
   "source": [
    "## Returning Optimal Parameters"
   ]
  },
  {
   "cell_type": "markdown",
   "metadata": {},
   "source": [
    "This function will iterate through a default classifier, changing only the parameter k within a range of k = [0,50]. The function will then return the K-value with the highest corresponding F1 score. We will then use this value of k moving forward."
   ]
  },
  {
   "cell_type": "code",
   "execution_count": 115,
   "metadata": {},
   "outputs": [
    {
     "name": "stdout",
     "output_type": "stream",
     "text": [
      "Best Value for K: 97\n",
      "F1-Score: 0.6074866310160427\n"
     ]
    }
   ],
   "source": [
    "find_best_k(X_train, y_train, X_test, y_test)"
   ]
  },
  {
   "cell_type": "code",
   "execution_count": 116,
   "metadata": {},
   "outputs": [
    {
     "name": "stdout",
     "output_type": "stream",
     "text": [
      "Fitting 3 folds for each of 4 candidates, totalling 12 fits\n"
     ]
    },
    {
     "name": "stderr",
     "output_type": "stream",
     "text": [
      "[Parallel(n_jobs=-1)]: Using backend LokyBackend with 4 concurrent workers.\n",
      "[Parallel(n_jobs=-1)]: Done  12 out of  12 | elapsed:    5.8s finished\n"
     ]
    }
   ],
   "source": [
    "grid_params = {'n_neighbors': [97],\n",
    "               'weights':['uniform', 'distance'],\n",
    "               'metric':['euclidean', 'manhattan']\n",
    "              }\n",
    "gs = GridSearchCV(KNeighborsClassifier(), grid_params, verbose = 1, cv = 3, n_jobs = -1)\n",
    "gs_results = gs.fit(X_train, y_train)"
   ]
  },
  {
   "cell_type": "code",
   "execution_count": 117,
   "metadata": {},
   "outputs": [
    {
     "data": {
      "text/plain": [
       "0.78833775085195"
      ]
     },
     "execution_count": 117,
     "metadata": {},
     "output_type": "execute_result"
    }
   ],
   "source": [
    "gs_results.best_score_"
   ]
  },
  {
   "cell_type": "code",
   "execution_count": 118,
   "metadata": {},
   "outputs": [
    {
     "data": {
      "text/plain": [
       "KNeighborsClassifier(algorithm='auto', leaf_size=30, metric='euclidean',\n",
       "                     metric_params=None, n_jobs=None, n_neighbors=97, p=2,\n",
       "                     weights='uniform')"
      ]
     },
     "execution_count": 118,
     "metadata": {},
     "output_type": "execute_result"
    }
   ],
   "source": [
    "gs_results.best_estimator_"
   ]
  },
  {
   "cell_type": "code",
   "execution_count": 119,
   "metadata": {},
   "outputs": [
    {
     "data": {
      "text/plain": [
       "{'metric': 'euclidean', 'n_neighbors': 97, 'weights': 'uniform'}"
      ]
     },
     "execution_count": 119,
     "metadata": {},
     "output_type": "execute_result"
    }
   ],
   "source": [
    "gs_results.best_params_"
   ]
  },
  {
   "cell_type": "code",
   "execution_count": null,
   "metadata": {},
   "outputs": [],
   "source": []
  },
  {
   "cell_type": "code",
   "execution_count": null,
   "metadata": {},
   "outputs": [],
   "source": []
  },
  {
   "cell_type": "code",
   "execution_count": null,
   "metadata": {},
   "outputs": [],
   "source": []
  },
  {
   "cell_type": "code",
   "execution_count": null,
   "metadata": {},
   "outputs": [],
   "source": []
  }
 ],
 "metadata": {
  "kernelspec": {
   "display_name": "Python 3",
   "language": "python",
   "name": "python3"
  },
  "language_info": {
   "codemirror_mode": {
    "name": "ipython",
    "version": 3
   },
   "file_extension": ".py",
   "mimetype": "text/x-python",
   "name": "python",
   "nbconvert_exporter": "python",
   "pygments_lexer": "ipython3",
   "version": "3.7.4"
  }
 },
 "nbformat": 4,
 "nbformat_minor": 4
}
